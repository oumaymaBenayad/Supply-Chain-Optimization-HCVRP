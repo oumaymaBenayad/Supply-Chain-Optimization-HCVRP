{
 "cells": [
  {
   "cell_type": "code",
   "execution_count": 2,
   "id": "85d87603",
   "metadata": {},
   "outputs": [
    {
     "name": "stdout",
     "output_type": "stream",
     "text": [
      "Requirement already satisfied: docplex in c:\\users\\joukre\\anaconda3\\lib\\site-packages (2.22.213)Note: you may need to restart the kernel to use updated packages.\n",
      "Requirement already satisfied: six in c:\\users\\joukre\\anaconda3\\lib\\site-packages (from docplex) (1.15.0)\n",
      "\n"
     ]
    }
   ],
   "source": [
    "# CPLEX sur python\n",
    "pip install docplex"
   ]
  },
  {
   "cell_type": "code",
   "execution_count": 3,
   "id": "24c6d4aa",
   "metadata": {},
   "outputs": [],
   "source": [
    "from sklearn.cluster import KMeans\n",
    "import pandas as pd\n",
    "import numpy as np\n",
    "from sklearn.preprocessing import MinMaxScaler\n",
    "from matplotlib import pyplot as plt\n",
    "%matplotlib inline"
   ]
  },
  {
   "cell_type": "markdown",
   "id": "72c58e20",
   "metadata": {},
   "source": [
    "# Calcul des distances"
   ]
  },
  {
   "cell_type": "code",
   "execution_count": 4,
   "id": "28071be6",
   "metadata": {},
   "outputs": [],
   "source": [
    "import folium"
   ]
  },
  {
   "cell_type": "code",
   "execution_count": 88,
   "id": "361933b2",
   "metadata": {},
   "outputs": [],
   "source": [
    "def feuille_excel(f) :\n",
    "    df = pd.read_excel(\"distances.xlsx\", sheet_name=f, index_col=0)\n",
    "    return(df)\n",
    "df = feuille_excel(\"Feuil5\")"
   ]
  },
  {
   "cell_type": "code",
   "execution_count": 89,
   "id": "2eb34786",
   "metadata": {},
   "outputs": [],
   "source": [
    "# création de tuples représentant notre location\n",
    "location = []\n",
    "for i in range (len(df)) :\n",
    "    location.append((df.iloc[i,0], df.iloc[i,1]))\n",
    "# centrer la carte à Casablanca\n",
    "casablanca = (33.5731104, -7.5898434)\n",
    "#print(location)"
   ]
  },
  {
   "cell_type": "code",
   "execution_count": 90,
   "id": "1d874df2",
   "metadata": {},
   "outputs": [],
   "source": [
    "# création d'une carte Folium centrée à la ville au-dessus\n",
    "m = folium.Map(location=casablanca, zoom_start=4, width=800, height=400)"
   ]
  },
  {
   "cell_type": "code",
   "execution_count": 91,
   "id": "1f54b9db",
   "metadata": {},
   "outputs": [],
   "source": [
    "# ajout des markers aux locations\n",
    "for i in range(len(location)) :\n",
    "    folium.Marker(location[i], popup=\"Point de vente\").add_to(m)\n",
    "# affichage de la carte dans Jupyter notebooks\n",
    "#m"
   ]
  },
  {
   "cell_type": "code",
   "execution_count": 92,
   "id": "4add0085",
   "metadata": {},
   "outputs": [
    {
     "name": "stdout",
     "output_type": "stream",
     "text": [
      "[[0.         1.03404704 1.34132115 0.53390358 1.24406376 1.942834\n",
      "  2.43619059 1.19349432 0.49701572 1.32745081 1.18191203 2.65464104\n",
      "  1.36853299 1.60171019 4.17217405 2.46707317 1.06451552 0.28007539\n",
      "  0.72233702 2.52681321 1.20183866 1.08829062]\n",
      " [1.03404704 0.         2.14779378 1.48814315 2.20930961 2.8826071\n",
      "  3.45602033 2.22334424 1.27265427 2.16676598 2.15644121 3.49731373\n",
      "  2.22648355 2.28115413 5.08987196 3.3758344  1.69341631 0.77412788\n",
      "  1.75288923 3.36899763 2.05822927 2.09693529]\n",
      " [1.34132115 2.14779378 0.         0.82723251 1.6529262  0.83427945\n",
      "  1.6445503  1.2372742  0.89902323 0.08907728 0.55448894 1.35057759\n",
      "  2.00807511 0.37750387 2.95312176 1.25092694 0.5226893  1.58522667\n",
      "  0.95893445 1.22200344 1.90923069 0.73669188]\n",
      " [0.53390358 1.48814315 0.82723251 0.         1.14782579 1.41684634\n",
      "  1.97789928 0.90674634 0.30357945 0.80313748 0.66943718 2.12144203\n",
      "  1.41088373 1.12920461 3.64462909 1.93579818 0.68656809 0.80276581\n",
      "  0.38598662 1.99381941 1.27139346 0.62050261]\n",
      " [1.24406376 2.20930961 1.6529262  1.14782579 0.         1.67781088\n",
      "  1.67906052 0.45329732 1.42644152 1.57761591 1.12223765 2.51299751\n",
      "  0.38917681 2.02957923 3.68703322 2.18307481 1.78208878 1.44923087\n",
      "  0.78103525 2.40782595 0.38004373 0.92457454]\n",
      " [1.942834   2.8826071  0.83427945 1.41684634 1.67781088 0.\n",
      "  0.87291723 1.23188136 1.61129652 0.77470533 0.76725461 0.83546598\n",
      "  2.06674704 1.0118485  2.22935301 0.53995743 1.3544443  2.21787767\n",
      "  1.309101   0.73108481 2.03245859 0.9125974 ]\n",
      " [2.43619059 3.45602033 1.6445503  1.97789928 1.67906052 0.87291723\n",
      "  0.         1.35705412 2.24188867 1.56785624 1.33348685 1.33886323\n",
      "  2.01851108 1.87726052 2.03594464 0.95446486 2.13515124 2.71416036\n",
      "  1.71635259 1.30607765 2.05688507 1.3601279 ]\n",
      " [1.19349432 2.22334424 1.2372742  0.90674634 0.45329732 1.23188136\n",
      "  1.35705412 0.         1.20960683 1.15659793 0.68929492 2.06719209\n",
      "  0.84108071 1.61438502 3.30783315 1.74803006 1.44675222 1.45074202\n",
      "  0.5255115  1.95958381 0.80104843 0.50076616]\n",
      " [0.49701572 1.27265427 0.89902323 0.30357945 1.42644152 1.61129652\n",
      "  2.24188867 1.20960683 0.         0.90498246 0.91109751 2.24529607\n",
      "  1.65732741 1.11810586 3.81912302 2.10451074 0.56752499 0.69918031\n",
      "  0.68621177 2.11654885 1.50661849 0.90119811]\n",
      " [1.32745081 2.16676598 0.08907728 0.80313748 1.57761591 0.77470533\n",
      "  1.56785624 1.15659793 0.90498246 0.         0.47038287 1.34070479\n",
      "  1.93714887 0.45855269 2.92566525 1.21605684 0.58079179 1.57928696\n",
      "  0.90152776 1.21197679 1.84241016 0.65704638]\n",
      " [1.18191203 2.15644121 0.55448894 0.66943718 1.12223765 0.76725461\n",
      "  1.33348685 0.68929492 0.91109751 0.47038287 0.         1.54154552\n",
      "  1.4938892  0.92888922 2.99402618 1.30246914 0.87961048 1.45983133\n",
      "  0.55451552 1.41962549 1.41474723 0.19980128]\n",
      " [2.65464104 3.49731373 1.35057759 2.12144203 2.51299751 0.83546598\n",
      "  1.33886323 2.06719209 2.24529607 1.34070479 1.54154552 0.\n",
      "  2.9017606  1.27892655 1.64393648 0.39024998 1.82585515 2.91505424\n",
      "  2.09604546 0.12874731 2.86739399 1.7148541 ]\n",
      " [1.36853299 2.22648355 2.00807511 1.41088373 0.38917681 2.06674704\n",
      "  2.01851108 0.84108071 1.65732741 1.93714887 1.4938892  2.9017606\n",
      "  0.         2.38142483 4.04405458 2.5690834  2.08076284 1.51489269\n",
      "  1.08447675 2.79693994 0.17014332 1.29430709]\n",
      " [1.60171019 2.28115413 0.37750387 1.12920461 2.02957923 1.0118485\n",
      "  1.87726052 1.61438502 1.11810586 0.45855269 0.92888922 1.27892655\n",
      "  2.38142483 0.         2.92190587 1.29240861 0.58965143 1.81673165\n",
      "  1.31896048 1.15798406 2.27823493 1.11401628]\n",
      " [4.17217405 5.08987196 2.95312176 3.64462909 3.68703322 2.22935301\n",
      "  2.03594464 3.30783315 3.81912302 2.92566525 2.99402618 1.64393648\n",
      "  4.04405458 2.92190587 0.         1.71467706 3.4532029  4.44671496\n",
      "  3.51980336 1.76397237 4.06703522 3.12025414]\n",
      " [2.46707317 3.3758344  1.25092694 1.93579818 2.18307481 0.53995743\n",
      "  0.95446486 1.74803006 2.10451074 1.21605684 1.30246914 0.39024998\n",
      "  2.5690834  1.29240861 1.71467706 0.         1.76530987 2.73854672\n",
      "  1.84847184 0.35373075 2.54795189 1.45254098]\n",
      " [1.06451552 1.69341631 0.5226893  0.68656809 1.78208878 1.3544443\n",
      "  2.13515124 1.44675222 0.56752499 0.58079179 0.87961048 1.82585515\n",
      "  2.08076284 0.58965143 3.4532029  1.76530987 0.         1.25104712\n",
      "  1.00330848 1.69954584 1.94937584 0.98860169]\n",
      " [0.28007539 0.77412788 1.58522667 0.80276581 1.44923087 2.21787767\n",
      "  2.71416036 1.45074202 0.69918031 1.57928696 1.45983133 2.91505424\n",
      "  1.51489269 1.81673165 4.44671496 2.73854672 1.25104712 0.\n",
      "  0.99840732 2.78673336 1.3447992  1.368331  ]\n",
      " [0.72233702 1.75288923 0.95893445 0.38598662 0.78103525 1.309101\n",
      "  1.71635259 0.5255115  0.68621177 0.90152776 0.55451552 2.09604546\n",
      "  1.08447675 1.31896048 3.51980336 1.84847184 1.00330848 0.99840732\n",
      "  0.         1.97387237 0.96579673 0.39972793]\n",
      " [2.52681321 3.36899763 1.22200344 1.99381941 2.40782595 0.73108481\n",
      "  1.30607765 1.95958381 2.11654885 1.21197679 1.41962549 0.12874731\n",
      "  2.79693994 1.15798406 1.76397237 0.35373075 1.69954584 2.78673336\n",
      "  1.97387237 0.         2.75836677 1.59572962]\n",
      " [1.20183866 2.05822927 1.90923069 1.27139346 0.38004373 2.03245859\n",
      "  2.05688507 0.80104843 1.50661849 1.84241016 1.41474723 2.86739399\n",
      "  0.17014332 2.27823493 4.06703522 2.54795189 1.94937584 1.3447992\n",
      "  0.96579673 2.75836677 0.         1.21536523]\n",
      " [1.08829062 2.09693529 0.73669188 0.62050261 0.92457454 0.9125974\n",
      "  1.3601279  0.50076616 0.90119811 0.65704638 0.19980128 1.7148541\n",
      "  1.29430709 1.11401628 3.12025414 1.45254098 0.98860169 1.368331\n",
      "  0.39972793 1.59572962 1.21536523 0.        ]]\n",
      "(22, 22)\n"
     ]
    }
   ],
   "source": [
    "# Calcul de distance entre les points de vente\n",
    "from geopy.distance import distance\n",
    "    \n",
    "km=np.zeros((len(location),len(location)))  \n",
    "for i in range(len(location)):\n",
    "    for j in range(len(location)):\n",
    "        km[i,j]= distance(location[i], location[j]).km\n",
    "print(km)\n",
    "print(km.shape)\n",
    "            "
   ]
  },
  {
   "cell_type": "markdown",
   "id": "cdc7b5a4",
   "metadata": {},
   "source": [
    "# Affichage de high frequency stores "
   ]
  },
  {
   "cell_type": "code",
   "execution_count": 93,
   "id": "5d5f6d63",
   "metadata": {},
   "outputs": [],
   "source": [
    "def feuille_excel(f) :\n",
    "    df = pd.read_excel(\"clusters_2.xlsx\", sheet_name=f, index_col=0)\n",
    "    return(df)"
   ]
  },
  {
   "cell_type": "code",
   "execution_count": 94,
   "id": "e8ebcbd9",
   "metadata": {},
   "outputs": [
    {
     "name": "stdout",
     "output_type": "stream",
     "text": [
      "22\n"
     ]
    }
   ],
   "source": [
    "df=feuille_excel(\"Feuille_5\")\n",
    "print(len(df))"
   ]
  },
  {
   "cell_type": "code",
   "execution_count": 95,
   "id": "7ef41233",
   "metadata": {},
   "outputs": [],
   "source": [
    "n=df.client[1:].tolist()"
   ]
  },
  {
   "cell_type": "code",
   "execution_count": 96,
   "id": "4c36c64c",
   "metadata": {},
   "outputs": [
    {
     "name": "stderr",
     "output_type": "stream",
     "text": [
      "No handles with labels found to put in legend.\n"
     ]
    },
    {
     "data": {
      "text/plain": [
       "(Text(0.5, 0, 'Latitude'),\n",
       " Text(0, 0.5, 'Longitude'),\n",
       " Text(0.5, 1.0, 'Tours'),\n",
       " <matplotlib.legend.Legend at 0x2295daa8790>)"
      ]
     },
     "execution_count": 96,
     "metadata": {},
     "output_type": "execute_result"
    },
    {
     "data": {
      "image/png": "[encoded data removed]",
      "text/plain": [
       "<Figure size 1080x720 with 1 Axes>"
      ]
     },
     "metadata": {
      "needs_background": "light"
     },
     "output_type": "display_data"
    }
   ],
   "source": [
    "#fig, ax = plt.subplots()\n",
    "plt.figure(figsize=(15,10))\n",
    "plt.scatter(df.Latitude[0:], df.Longitude[0:], c='b')\n",
    "plt.plot(df.Latitude[0], df.Longitude[0], c='r', marker='s')\n",
    "for i in n:\n",
    "    plt.annotate(int(i), (df.Latitude[i], df.Longitude[i]))\n",
    "plt.xlabel(\"Latitude\"), plt.ylabel(\"Longitude\"), plt.title(\"Tours\"), plt.legend(loc = 4)\n",
    "#plt.show()"
   ]
  },
  {
   "cell_type": "code",
   "execution_count": 97,
   "id": "5c459fcb",
   "metadata": {},
   "outputs": [],
   "source": [
    "rnd = np.random\n",
    "rnd.seed(0)"
   ]
  },
  {
   "cell_type": "markdown",
   "id": "f613047b",
   "metadata": {},
   "source": [
    "# Résolution de Heterogeneous capacitated vehicle routing problem (HCVRP)"
   ]
  },
  {
   "cell_type": "code",
   "execution_count": 98,
   "id": "c48c60aa",
   "metadata": {},
   "outputs": [],
   "source": [
    "from docplex.mp.model import Model"
   ]
  },
  {
   "cell_type": "code",
   "execution_count": 99,
   "id": "62627b27",
   "metadata": {},
   "outputs": [],
   "source": [
    "# Nombre de Nodes\n",
    "nbVilles = 22\n",
    "# Index: Range ville\n",
    "villes=range(nbVilles)\n",
    "# Nombre de vehicules\n",
    "nbVehicles=1\n",
    "vehicles=range(nbVehicles)\n",
    "# Cout entre node i et node j.\n",
    "cij=km\n",
    "#print(cij)\n",
    "# demande de chaque client i.\n",
    "di=np.array([8,8,7,15,7,6,7,8,6,5,6,8,12,9,6,9,10,8,9,10,12,12])\n",
    "# capacité de chaque véhicule \n",
    "qk = np.array([250])"
   ]
  },
  {
   "cell_type": "code",
   "execution_count": 100,
   "id": "55f61dee",
   "metadata": {},
   "outputs": [],
   "source": [
    "# Définition du model\n",
    "model=Model('CVRP')"
   ]
  },
  {
   "cell_type": "code",
   "execution_count": 101,
   "id": "abf4b7e5",
   "metadata": {},
   "outputs": [],
   "source": [
    "# Variable xij\n",
    "x=model.binary_var_cube(keys1=villes,keys2=villes,keys3=vehicles,name='x')\n",
    "# Varible ui\n",
    "u=model.integer_var_matrix(keys1=villes, keys2=vehicles,lb=0, ub=nbVilles,name='u')"
   ]
  },
  {
   "cell_type": "code",
   "execution_count": 102,
   "id": "36faa8cb",
   "metadata": {},
   "outputs": [],
   "source": [
    "# Fonction Objectif\n",
    "model.minimize(model.sum(cij[i,j] * x[i,j,k] for i in villes for j in villes for k in vehicles))"
   ]
  },
  {
   "cell_type": "code",
   "execution_count": 103,
   "id": "b61c5306",
   "metadata": {},
   "outputs": [],
   "source": [
    "# Contraintes:\n",
    "\n",
    "# #### Contrainte 1:\n",
    "for j in villes:\n",
    "    if j > 0 :\n",
    "        model.add_constraint(model.sum( x[i , j , k] for i in villes for k in vehicles )==1 , ctname=\"c1\")\n",
    "\n",
    "# #### Contrainte 2:\n",
    "for j in villes:\n",
    "    for k in vehicles:\n",
    "        model.add_constraint(model.sum(x[i , j , k] for i in villes )==model.sum(x[j , i , k] for i in villes) , ctname=\"c2\")\n",
    "\n",
    "\n",
    "# #### Contrainte 3:\n",
    "for k in vehicles:\n",
    "    model.add_constraint(model.sum(x[0 , j , k] for j in villes if j>0)==1, ctname=\"c3\")\n",
    "\n",
    "\n",
    "# #### Contrainte 4:\n",
    "for k in vehicles:\n",
    "    model.add_constraint( model.sum(di[j] * x[i , j,k] for i in villes for j in villes if j>0)<=qk[k], ctname=\"c4\")\n",
    "\n",
    "\n",
    "# #### Contrainte 5:\n",
    "for i in villes:\n",
    "    for j in villes:\n",
    "        if j > 0:\n",
    "            for k in vehicles:\n",
    "                model.add_constraint(u[i,k]-u[j,k]+(nbVilles -nbVehicles)* x[i,j , k]<=(nbVilles - nbVehicles -1), ctname=\"c5\")"
   ]
  },
  {
   "cell_type": "code",
   "execution_count": 104,
   "id": "7ef99a77",
   "metadata": {},
   "outputs": [
    {
     "name": "stdout",
     "output_type": "stream",
     "text": [
      "-- cannot find parameters matching version: 22.1.0.0, using: 20.1.0.0\n",
      "CPLEX Error  1013: Bad parameter number to CPLEX parameter routine.\n",
      "Warning: An error occurred while setting parameter 'distmip.rampup.dettimelimit' (id: 2164) to value 1e+75: 'CPLEX Error  1013: Bad parameter number to CPLEX parameter routine.' - ignored\n",
      "CPLEX Error  1013: Bad parameter number to CPLEX parameter routine.\n",
      "Warning: An error occurred while setting parameter 'distmip.rampup.duration' (id: 2163) to value 0: 'CPLEX Error  1013: Bad parameter number to CPLEX parameter routine.' - ignored\n",
      "CPLEX Error  1013: Bad parameter number to CPLEX parameter routine.\n",
      "Warning: An error occurred while setting parameter 'distmip.rampup.timelimit' (id: 2165) to value 1e+75: 'CPLEX Error  1013: Bad parameter number to CPLEX parameter routine.' - ignored\n",
      "Version identifier: 22.1.0.0 | 2022-03-25 | 54982fbec\n",
      "CPXPARAM_Read_DataCheck                          1\n",
      "Tried aggregator 1 time.\n",
      "MIP Presolve eliminated 21 rows and 23 columns.\n",
      "MIP Presolve modified 945 coefficients.\n",
      "Reduced MIP has 485 rows, 483 columns, and 2226 nonzeros.\n",
      "Reduced MIP has 462 binaries, 21 generals, 0 SOSs, and 0 indicators.\n",
      "Presolve time = 0.02 sec. (2.43 ticks)\n",
      "Probing time = 0.02 sec. (2.02 ticks)\n",
      "Cover probing fixed 0 vars, tightened 21 bounds.\n",
      "Tried aggregator 1 time.\n",
      "Detecting symmetries...\n",
      "MIP Presolve eliminated 21 rows and 0 columns.\n",
      "Reduced MIP has 464 rows, 483 columns, and 2184 nonzeros.\n",
      "Reduced MIP has 462 binaries, 21 generals, 0 SOSs, and 0 indicators.\n",
      "Presolve time = 0.01 sec. (1.80 ticks)\n",
      "Probing time = 0.00 sec. (1.98 ticks)\n",
      "Clique table members: 254.\n",
      "MIP emphasis: balance optimality and feasibility.\n",
      "MIP search method: dynamic search.\n",
      "Parallel mode: deterministic, using up to 4 threads.\n",
      "Root relaxation solution time = 0.00 sec. (0.73 ticks)\n",
      "\n",
      "        Nodes                                         Cuts/\n",
      "   Node  Left     Objective  IInf  Best Integer    Best Bound    ItCnt     Gap\n",
      "\n",
      "*     0+    0                           33.8143        0.0000           100.00%\n",
      "      0     0       11.7918    47       33.8143       11.7918       39   65.13%\n",
      "      0     0       12.6126    51       33.8143      Cuts: 70       94   62.70%\n",
      "      0     0       12.6126    51       33.8143      Cuts: 36      112   62.70%\n",
      "      0     0       12.6126    50       33.8143      Cuts: 12      121   62.70%\n",
      "*     0+    0                           17.8078       12.6126            29.17%\n",
      "*     0+    0                           17.6205       12.6126            28.42%\n",
      "      0     0  -1.00000e+75     0       17.6205       12.6126      121   28.42%\n",
      "Detecting symmetries...\n",
      "      0     2       12.6126    50       17.6205       12.6126      121   28.42%\n",
      "Elapsed time = 0.44 sec. (48.47 ticks, tree = 0.02 MB, solutions = 3)\n",
      "*    95    61      integral     0       15.7555       12.6276      864   19.85%\n",
      "*   187   111      integral     0       15.6167       12.6704     1461   18.87%\n",
      "*   605+  318                           14.9404       12.8423            14.04%\n",
      "*  1702   939      integral     0       14.7626       13.0816    10825   11.39%\n",
      "*  2153  1172      integral     0       14.7499       13.1554    14175   10.81%\n",
      "*  2506+ 1287                           14.5869       13.1910             9.57%\n",
      "\n",
      "Performing restart 1\n",
      "\n",
      "Repeating presolve.\n",
      "Tried aggregator 1 time.\n",
      "MIP Presolve eliminated 0 rows and 51 columns.\n",
      "Reduced MIP has 464 rows, 432 columns, and 2038 nonzeros.\n",
      "Reduced MIP has 411 binaries, 21 generals, 0 SOSs, and 0 indicators.\n",
      "Presolve time = 0.01 sec. (1.35 ticks)\n",
      "Tried aggregator 1 time.\n",
      "MIP Presolve eliminated 37 rows and 0 columns.\n",
      "MIP Presolve modified 18 coefficients.\n",
      "Reduced MIP has 427 rows, 432 columns, and 1964 nonzeros.\n",
      "Reduced MIP has 411 binaries, 21 generals, 0 SOSs, and 0 indicators.\n",
      "Presolve time = 0.01 sec. (1.59 ticks)\n",
      "Represolve time = 0.05 sec. (6.00 ticks)\n",
      "   2538     0       12.8902    59       14.5869      Cuts: 39    17696    9.36%\n",
      "   2538     0       12.9438    62       14.5869      Cuts: 47    17741    9.36%\n",
      "   2538     0       13.1231    50       14.5869      Cuts: 61    17800    9.36%\n",
      "   2538     0       13.2149    70       14.5869     Cuts: 103    17851    9.36%\n",
      "   2538     0       13.2479    50       14.5869     Cuts: 139    17866    9.18%\n",
      "   2538     0       13.2479    54       14.5869      Cuts: 25    17882    9.18%\n",
      "   2538     0       13.2479    34       14.5869      Cuts: 11    17895    9.18%\n",
      "   2538     0       13.2479    57       14.5869      Cuts: 25    17927    9.18%\n",
      "   2538     0       13.2479    56       14.5869      Cuts: 79    17953    9.18%\n",
      "   2538     0       13.2479    40       14.5869      Cuts: 31    17971    8.34%\n",
      "   2538     0       13.2481    49       14.5869      Cuts: 37    18004    8.34%\n",
      "   2538     2       13.2481    49       14.5869       13.3697    18004    8.34%\n",
      "   3426   526       13.5171    43       14.5869       13.3697    22689    8.34%\n",
      "   4768  1435       14.4601    30       14.5869       13.5110    31034    7.38%\n",
      "   5864  2060        cutoff             14.5869       13.5967    39275    6.79%\n",
      "*  6500  2296      integral     0       14.5539       13.6410    45264    6.27%\n",
      "   6797  2384       13.8996    36       14.5539       13.6722    48597    6.06%\n",
      "*  7019+ 2382                           14.5230       13.6856             5.77%\n",
      "*  7179+ 2397                           14.3600       13.6970             4.62%\n",
      "   8498  1885        cutoff             14.3600       13.8412    65219    3.61%\n",
      "  10004  1118       14.2435    44       14.3600       14.0808    77734    1.94%\n",
      "\n",
      "GUB cover cuts applied:  5\n",
      "Clique cuts applied:  8\n",
      "Cover cuts applied:  36\n",
      "Implied bound cuts applied:  9\n",
      "Flow cuts applied:  2\n",
      "Mixed integer rounding cuts applied:  57\n",
      "Zero-half cuts applied:  21\n",
      "Multi commodity flow cuts applied:  1\n",
      "Lift and project cuts applied:  4\n",
      "Gomory fractional cuts applied:  17\n",
      "\n",
      "Root node processing (before b&c):\n",
      "  Real time             =    0.44 sec. (48.31 ticks)\n",
      "Parallel b&c, 4 threads:\n",
      "  Real time             =   10.55 sec. (2265.90 ticks)\n",
      "  Sync time (average)   =    1.47 sec.\n",
      "  Wait time (average)   =    0.08 sec.\n",
      "                          ------------\n",
      "Total (root+branch&cut) =   10.98 sec. (2314.21 ticks)\n"
     ]
    }
   ],
   "source": [
    "# Solve\n",
    "solution = model.solve(log_output=True)"
   ]
  },
  {
   "cell_type": "code",
   "execution_count": 105,
   "id": "d8b218ba",
   "metadata": {},
   "outputs": [
    {
     "name": "stdout",
     "output_type": "stream",
     "text": [
      "solution for: CVRP\n",
      "objective: 14.360\n",
      "x_0_17_0 = 1\n",
      "x_1_8_0 = 1\n",
      "x_2_9_0 = 1\n",
      "x_3_0_0 = 1\n",
      "x_4_12_0 = 1\n",
      "x_5_15_0 = 1\n",
      "x_6_10_0 = 1\n",
      "x_7_4_0 = 1\n",
      "x_8_16_0 = 1\n",
      "x_9_5_0 = 1\n",
      "x_10_21_0 = 1\n",
      "x_11_14_0 = 1\n",
      "x_12_20_0 = 1\n",
      "x_13_2_0 = 1\n",
      "x_14_6_0 = 1\n",
      "x_15_19_0 = 1\n",
      "x_16_13_0 = 1\n",
      "x_17_1_0 = 1\n",
      "x_18_3_0 = 1\n",
      "x_19_11_0 = 1\n",
      "x_20_18_0 = 1\n",
      "x_21_7_0 = 1\n",
      "u_1_0 = 2\n",
      "u_2_0 = 6\n",
      "u_3_0 = 21\n",
      "u_4_0 = 17\n",
      "u_5_0 = 8\n",
      "u_6_0 = 13\n",
      "u_7_0 = 16\n",
      "u_8_0 = 3\n",
      "u_9_0 = 7\n",
      "u_10_0 = 14\n",
      "u_11_0 = 11\n",
      "u_12_0 = 18\n",
      "u_13_0 = 5\n",
      "u_14_0 = 12\n",
      "u_15_0 = 9\n",
      "u_16_0 = 4\n",
      "u_17_0 = 1\n",
      "u_18_0 = 20\n",
      "u_19_0 = 10\n",
      "u_20_0 = 19\n",
      "u_21_0 = 15\n"
     ]
    }
   ],
   "source": [
    "solution.display()"
   ]
  },
  {
   "cell_type": "code",
   "execution_count": 72,
   "id": "5aef7be5",
   "metadata": {},
   "outputs": [
    {
     "data": {
      "text/plain": [
       "<JobSolveStatus.OPTIMAL_SOLUTION: 2>"
      ]
     },
     "execution_count": 72,
     "metadata": {},
     "output_type": "execute_result"
    }
   ],
   "source": [
    "solution.solve_status"
   ]
  },
  {
   "cell_type": "code",
   "execution_count": 73,
   "id": "d71c2415",
   "metadata": {},
   "outputs": [
    {
     "data": {
      "text/plain": [
       "[(0, 13),\n",
       " (1, 6),\n",
       " (2, 1),\n",
       " (3, 9),\n",
       " (4, 0),\n",
       " (5, 8),\n",
       " (6, 17),\n",
       " (7, 18),\n",
       " (8, 3),\n",
       " (9, 19),\n",
       " (10, 20),\n",
       " (11, 16),\n",
       " (12, 15),\n",
       " (13, 5),\n",
       " (14, 12),\n",
       " (15, 21),\n",
       " (16, 14),\n",
       " (17, 7),\n",
       " (18, 11),\n",
       " (19, 2),\n",
       " (20, 4),\n",
       " (21, 10)]"
      ]
     },
     "execution_count": 73,
     "metadata": {},
     "output_type": "execute_result"
    }
   ],
   "source": [
    "active_arcs=[]\n",
    "for k in vehicles :\n",
    "    for i in range(len(df)) :\n",
    "        for j in range(len(df)) :\n",
    "            if (i!=j and x[i,j,k].solution_value > 0.9) :\n",
    "                active_arcs.append((i,j))\n",
    "active_arcs"
   ]
  },
  {
   "cell_type": "code",
   "execution_count": 74,
   "id": "59d471eb",
   "metadata": {},
   "outputs": [
    {
     "data": {
      "image/png": "[encoded data removed]",
      "text/plain": [
       "<Figure size 720x576 with 1 Axes>"
      ]
     },
     "metadata": {
      "needs_background": "light"
     },
     "output_type": "display_data"
    }
   ],
   "source": [
    "plt.figure(figsize=(10,8))\n",
    "plt.scatter(df.Latitude[0:], df.Longitude[0:], c='b')\n",
    "plt.plot(df.Latitude[0], df.Longitude[0], c='r', marker='s',label=\"dépôt\")\n",
    "for i in n:\n",
    "    plt.annotate(int(i), (df.Latitude[i], df.Longitude[i]))\n",
    "for i, j in active_arcs:\n",
    "    plt.plot([df[['Latitude']].iloc[i], df[['Latitude']].iloc[j]], [df[['Longitude']].iloc[i], df[['Longitude']].iloc[j]], c='grey', alpha=10)"
   ]
  },
  {
   "cell_type": "code",
   "execution_count": 75,
   "id": "c2a7df3d",
   "metadata": {},
   "outputs": [
    {
     "name": "stdout",
     "output_type": "stream",
     "text": [
      "[13.]\n",
      "v:13\n",
      "(ordre u_13_0: 1 noeud: x_13)=>(ordre u_5_0: 2 noeud: x_5)=>(ordre u_8_0: 3 noeud: x_8)=>(ordre u_3_0: 4 noeud: x_3)=>(ordre u_9_0: 5 noeud: x_9)=>(ordre u_19_0: 6 noeud: x_19)=>(ordre u_2_0: 7 noeud: x_2)=>(ordre u_1_0: 8 noeud: x_1)=>(ordre u_6_0: 9 noeud: x_6)=>(ordre u_17_0: 10 noeud: x_17)=>(ordre u_7_0: 11 noeud: x_7)=>(ordre u_18_0: 12 noeud: x_18)=>(ordre u_11_0: 13 noeud: x_11)=>(ordre u_16_0: 14 noeud: x_16)=>(ordre u_14_0: 15 noeud: x_14)=>(ordre u_12_0: 16 noeud: x_12)=>(ordre u_15_0: 17 noeud: x_15)=>(ordre u_21_0: 18 noeud: x_21)=>(ordre u_10_0: 19 noeud: x_10)=>(ordre u_20_0: 20 noeud: x_20)=>(ordre u_4_0: 21 noeud: x_4)=>\n"
     ]
    }
   ],
   "source": [
    "# Séquence de visites\n",
    "a=0;\n",
    "\n",
    "rt=np.zeros((nbVehicles))\n",
    "i=0\n",
    "for v in vehicles :\n",
    "    for s in villes :\n",
    "        if (solution.get_value(x[0, s, v])>0) :\n",
    "            rt[v] = int(s);\n",
    "print(rt)\n",
    "for v in vehicles :\n",
    "    k = rt[v]\n",
    "    breaker=False\n",
    "    a = int(k)\n",
    "    print(\"v:\"+str(a));\n",
    "    for b in villes :\n",
    "        for c in villes :\n",
    "            if solution.get_value(x[a, c, v])>0 :\n",
    "                print(\"(ordre \"+str(u[a, v])+\": \"+ str(round(solution.get_value(u[a, v]))) + \" noeud: x_\"+str(a)+\")\", end=\"=>\")\n",
    "                a=c\n",
    "                if (a==0):\n",
    "                    b=nbVilles\n",
    "                    print(\"\")\n",
    "                    breaker=True\n",
    "                    break\n",
    "        if breaker :\n",
    "            break          "
   ]
  },
  {
   "cell_type": "code",
   "execution_count": null,
   "id": "e5d2a3f2",
   "metadata": {},
   "outputs": [],
   "source": []
  },
  {
   "cell_type": "code",
   "execution_count": null,
   "id": "26dd156b",
   "metadata": {},
   "outputs": [],
   "source": []
  }
 ],
 "metadata": {
  "kernelspec": {
   "display_name": "Python 3",
   "language": "python",
   "name": "python3"
  },
  "language_info": {
   "codemirror_mode": {
    "name": "ipython",
    "version": 3
   },
   "file_extension": ".py",
   "mimetype": "text/x-python",
   "name": "python",
   "nbconvert_exporter": "python",
   "pygments_lexer": "ipython3",
   "version": "3.8.8"
  }
 },
 "nbformat": 4,
 "nbformat_minor": 5
}
